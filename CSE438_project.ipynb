{
 "cells": [
  {
   "cell_type": "markdown",
   "metadata": {},
   "source": [
    "# Imports and Preprocess"
   ]
  },
  {
   "cell_type": "code",
   "execution_count": 1,
   "metadata": {},
   "outputs": [],
   "source": [
    "import matplotlib.pyplot as plt\n",
    "import numpy as np\n",
    "import cv2\n",
    "import os\n",
    "import PIL\n",
    "import tensorflow as tf\n",
    "\n",
    "from tensorflow import keras\n",
    "from tensorflow.keras import layers\n",
    "from tensorflow.keras.models import Sequential\n"
   ]
  },
  {
   "cell_type": "code",
   "execution_count": 2,
   "metadata": {},
   "outputs": [
    {
     "name": "stdout",
     "output_type": "stream",
     "text": [
      "1 Physical GPUs, 1 Logical GPUs\n"
     ]
    }
   ],
   "source": [
    "gpus = tf.config.list_physical_devices('GPU')\n",
    "if gpus:\n",
    "  try:\n",
    "    # Currently, memory growth needs to be the same across GPUs\n",
    "    for gpu in gpus:\n",
    "      tf.config.experimental.set_memory_growth(gpu, True)\n",
    "    logical_gpus = tf.config.list_logical_devices('GPU')\n",
    "    print(len(gpus), \"Physical GPUs,\", len(logical_gpus), \"Logical GPUs\")\n",
    "  except RuntimeError as e:\n",
    "    # Memory growth must be set before GPUs have been initialized\n",
    "    print(e)"
   ]
  },
  {
   "cell_type": "code",
   "execution_count": 3,
   "metadata": {},
   "outputs": [
    {
     "data": {
      "text/plain": [
       "WindowsPath('C:/Users/ASUS/Documents/11_Summer 23/CSE438-Digital Image Processing/Codes/EMDS-6/EMDS5-Original')"
      ]
     },
     "execution_count": 3,
     "metadata": {},
     "output_type": "execute_result"
    }
   ],
   "source": [
    "import pathlib\n",
    "data_dir = pathlib.Path(r'C:\\Users\\ASUS\\Documents\\11_Summer 23\\CSE438-Digital Image Processing\\Codes\\EMDS-6\\EMDS5-Original')\n",
    "data_dir"
   ]
  },
  {
   "cell_type": "code",
   "execution_count": 4,
   "metadata": {},
   "outputs": [
    {
     "data": {
      "text/plain": [
       "840"
      ]
     },
     "execution_count": 4,
     "metadata": {},
     "output_type": "execute_result"
    }
   ],
   "source": [
    "img_count = len(list(data_dir.glob('*/*.png')))\n",
    "img_count"
   ]
  },
  {
   "cell_type": "code",
   "execution_count": 5,
   "metadata": {},
   "outputs": [],
   "source": [
    "img_path_dict = {\n",
    "\"Actinophrys\": list(data_dir.glob('Actinophrys/*.png')),\n",
    " \"Arcella\" : list(data_dir.glob(\"Arcella/*\")),\n",
    " \"Aspidisca\": list(data_dir.glob(\"Aspidisca/*\")),\n",
    " \"Codosiga\": list(data_dir.glob(\"Codosiga/*\")),\n",
    " \"Colpoda\": list(data_dir.glob(\"Colpoda/*\")),\n",
    " \"Epistylis\": list(data_dir.glob(\"Epistylis/*\")),\n",
    " \"Euglypha\": list(data_dir.glob(\"Euglypha/*\")),\n",
    " \"Paramecium\" : list(data_dir.glob(\"Paramecium/*\")),\n",
    " \"Rotifera\" : list(data_dir.glob(\"Rotifera/*\")),\n",
    " \"Vorticella\" : list(data_dir.glob(\"Vorticella/*\")),\n",
    " \"Noctiluca\" : list(data_dir.glob(\"Noctiluca/*\")),\n",
    " \"Ceratium\" : list(data_dir.glob(\"Ceratium/*\")),\t\n",
    " \"Stentor\" : list(data_dir.glob(\"Stentor/*\")),\n",
    " \"Siprostomum\" : list(data_dir.glob(\"Siprostomum/*\")),\n",
    " \"Keratella Quadrala\" : list(data_dir.glob(\"Keratella Quadrala/*\")),\n",
    " \"Euglena\" : list(data_dir.glob(\"Euglena/*\")),\n",
    " \"Gymnodinium\" : list(data_dir.glob(\"Gymnodinium/*\")),\n",
    " \"Gonyaulax\" : list(data_dir.glob(\"Gonyaulax/*\")),\n",
    " \"Phacus\" : list(data_dir.glob(\"Phacus/*\")),\n",
    " \"Stylongchia\" : list(data_dir.glob(\"Stylongchia/*\")),\n",
    " \"Synchaeta\" : list(data_dir.glob(\"Synchaeta/*\"))\n",
    "}\n"
   ]
  },
  {
   "cell_type": "code",
   "execution_count": 6,
   "metadata": {},
   "outputs": [],
   "source": [
    "img_label_dict = {\n",
    "\"Actinophrys\": 0,\n",
    " \"Arcella\" : 1,\n",
    " \"Aspidisca\": 2,\n",
    " \"Codosiga\": 3,\t\n",
    " \"Colpoda\": 4,\t\n",
    " \"Epistylis\": 5,\n",
    " \"Euglypha\": 6,\n",
    " \"Paramecium\" : 7,\n",
    " \"Rotifera\" : 8,\n",
    " \"Vorticella\" : 9,\n",
    " \"Noctiluca\" : 10,\n",
    " \"Ceratium\" : 11,\n",
    " \"Stentor\" :  12,\n",
    " \"Siprostomum\" : 13,\n",
    " \"Keratella Quadrala\" : 14,\n",
    " \"Euglena\" : 15,\n",
    " \"Gymnodinium\" : 16,\n",
    " \"Gonyaulax\" : 17,\n",
    " \"Phacus\" : 18,\n",
    " \"Stylongchia\" : 19,\n",
    " \"Synchaeta\" : 20\n",
    "}"
   ]
  },
  {
   "cell_type": "code",
   "execution_count": 7,
   "metadata": {},
   "outputs": [
    {
     "data": {
      "text/plain": [
       "WindowsPath('C:/Users/ASUS/Documents/11_Summer 23/CSE438-Digital Image Processing/Codes/EMDS-6/EMDS5-Original/Actinophrys/EMDS5-g01-01.png')"
      ]
     },
     "execution_count": 7,
     "metadata": {},
     "output_type": "execute_result"
    }
   ],
   "source": [
    "img_path_dict['Actinophrys'][0]"
   ]
  },
  {
   "cell_type": "code",
   "execution_count": 8,
   "metadata": {},
   "outputs": [
    {
     "data": {
      "text/plain": [
       "(338, 507, 3)"
      ]
     },
     "execution_count": 8,
     "metadata": {},
     "output_type": "execute_result"
    }
   ],
   "source": [
    "img = cv2.imread(str(img_path_dict['Actinophrys'][0]))\n",
    "img.shape"
   ]
  },
  {
   "cell_type": "code",
   "execution_count": 9,
   "metadata": {},
   "outputs": [
    {
     "data": {
      "text/plain": [
       "(224, 224, 3)"
      ]
     },
     "execution_count": 9,
     "metadata": {},
     "output_type": "execute_result"
    }
   ],
   "source": [
    "cv2.resize(img, (224,224)).shape"
   ]
  },
  {
   "cell_type": "code",
   "execution_count": 10,
   "metadata": {},
   "outputs": [],
   "source": [
    "X, y = [], []\n",
    "for name, images in img_path_dict.items():\n",
    "    for image in images:\n",
    "        img = cv2.imread(str(image))\n",
    "        resized_img = cv2.resize(img, (224, 224))\n",
    "        X.append(resized_img)\n",
    "        y.append(img_label_dict[name])"
   ]
  },
  {
   "cell_type": "code",
   "execution_count": 11,
   "metadata": {},
   "outputs": [],
   "source": [
    "X = np.array(X)\n",
    "y = np.array(y)"
   ]
  },
  {
   "cell_type": "code",
   "execution_count": 12,
   "metadata": {},
   "outputs": [],
   "source": [
    "from sklearn.model_selection import train_test_split\n",
    "X_train, X_test, y_train, y_test = train_test_split(X, y, random_state=0, test_size = 0.2)"
   ]
  },
  {
   "cell_type": "code",
   "execution_count": 13,
   "metadata": {},
   "outputs": [
    {
     "name": "stdout",
     "output_type": "stream",
     "text": [
      "672\n",
      "168\n"
     ]
    }
   ],
   "source": [
    "print(len(X_train))\n",
    "print(len(X_test))"
   ]
  },
  {
   "cell_type": "code",
   "execution_count": 14,
   "metadata": {},
   "outputs": [],
   "source": [
    "# scaling\n",
    "X_train_scaled = X_train/224\n",
    "X_test_scaled = X_test/224"
   ]
  },
  {
   "cell_type": "markdown",
   "metadata": {},
   "source": [
    "# RAW CNN model"
   ]
  },
  {
   "cell_type": "code",
   "execution_count": 15,
   "metadata": {},
   "outputs": [
    {
     "name": "stdout",
     "output_type": "stream",
     "text": [
      "Epoch 1/30\n",
      "21/21 [==============================] - 8s 171ms/step - loss: 3.1832 - accuracy: 0.0565 - val_loss: 3.0116 - val_accuracy: 0.0655\n",
      "Epoch 2/30\n",
      "21/21 [==============================] - 3s 145ms/step - loss: 2.8960 - accuracy: 0.1146 - val_loss: 2.8927 - val_accuracy: 0.2262\n",
      "Epoch 3/30\n",
      "21/21 [==============================] - 3s 139ms/step - loss: 2.5651 - accuracy: 0.2247 - val_loss: 2.8358 - val_accuracy: 0.2143\n",
      "Epoch 4/30\n",
      "21/21 [==============================] - 3s 139ms/step - loss: 2.1442 - accuracy: 0.3557 - val_loss: 2.8186 - val_accuracy: 0.1905\n",
      "Epoch 5/30\n",
      "21/21 [==============================] - 3s 142ms/step - loss: 1.8308 - accuracy: 0.4568 - val_loss: 3.0159 - val_accuracy: 0.2262\n",
      "Epoch 6/30\n",
      "21/21 [==============================] - 3s 141ms/step - loss: 1.6027 - accuracy: 0.5253 - val_loss: 3.3033 - val_accuracy: 0.2738\n",
      "Epoch 7/30\n",
      "21/21 [==============================] - 3s 151ms/step - loss: 1.1774 - accuracy: 0.6473 - val_loss: 3.3464 - val_accuracy: 0.2619\n",
      "Epoch 8/30\n",
      "21/21 [==============================] - 3s 144ms/step - loss: 0.8901 - accuracy: 0.7351 - val_loss: 4.0134 - val_accuracy: 0.2500\n",
      "Epoch 9/30\n",
      "21/21 [==============================] - 3s 142ms/step - loss: 0.7658 - accuracy: 0.7515 - val_loss: 4.4396 - val_accuracy: 0.3512\n",
      "Epoch 10/30\n",
      "21/21 [==============================] - 3s 141ms/step - loss: 0.6368 - accuracy: 0.8259 - val_loss: 3.8187 - val_accuracy: 0.2381\n",
      "Epoch 11/30\n",
      "21/21 [==============================] - 3s 141ms/step - loss: 0.6576 - accuracy: 0.8006 - val_loss: 4.3741 - val_accuracy: 0.3393\n",
      "Epoch 12/30\n",
      "21/21 [==============================] - 3s 141ms/step - loss: 0.4633 - accuracy: 0.8363 - val_loss: 4.6907 - val_accuracy: 0.3452\n",
      "Epoch 13/30\n",
      "21/21 [==============================] - 3s 142ms/step - loss: 0.3428 - accuracy: 0.9033 - val_loss: 6.3469 - val_accuracy: 0.2976\n",
      "Epoch 14/30\n",
      "21/21 [==============================] - 3s 141ms/step - loss: 0.3835 - accuracy: 0.8973 - val_loss: 5.3845 - val_accuracy: 0.3036\n",
      "Epoch 15/30\n",
      "21/21 [==============================] - 3s 132ms/step - loss: 0.3076 - accuracy: 0.9196 - val_loss: 5.5857 - val_accuracy: 0.3333\n",
      "Epoch 16/30\n",
      "21/21 [==============================] - 2s 101ms/step - loss: 0.1627 - accuracy: 0.9717 - val_loss: 7.1681 - val_accuracy: 0.3095\n",
      "Epoch 17/30\n",
      "21/21 [==============================] - 2s 102ms/step - loss: 0.1824 - accuracy: 0.9479 - val_loss: 6.8941 - val_accuracy: 0.2917\n",
      "Epoch 18/30\n",
      "21/21 [==============================] - 2s 101ms/step - loss: 0.1695 - accuracy: 0.9583 - val_loss: 6.6756 - val_accuracy: 0.2857\n",
      "Epoch 19/30\n",
      "21/21 [==============================] - 2s 102ms/step - loss: 0.0907 - accuracy: 0.9762 - val_loss: 6.3611 - val_accuracy: 0.3274\n",
      "Epoch 20/30\n",
      "21/21 [==============================] - 2s 103ms/step - loss: 0.0646 - accuracy: 0.9821 - val_loss: 7.5604 - val_accuracy: 0.3036\n",
      "Epoch 21/30\n",
      "21/21 [==============================] - 2s 102ms/step - loss: 0.0759 - accuracy: 0.9777 - val_loss: 7.8681 - val_accuracy: 0.3750\n",
      "Epoch 22/30\n",
      "21/21 [==============================] - 2s 102ms/step - loss: 0.0658 - accuracy: 0.9821 - val_loss: 7.8884 - val_accuracy: 0.3036\n",
      "Epoch 23/30\n",
      "21/21 [==============================] - 2s 102ms/step - loss: 0.0877 - accuracy: 0.9747 - val_loss: 6.8326 - val_accuracy: 0.2917\n",
      "Epoch 24/30\n",
      "21/21 [==============================] - 2s 102ms/step - loss: 0.0329 - accuracy: 0.9970 - val_loss: 8.7222 - val_accuracy: 0.3512\n",
      "Epoch 25/30\n",
      "21/21 [==============================] - 2s 103ms/step - loss: 0.0214 - accuracy: 0.9955 - val_loss: 7.5928 - val_accuracy: 0.2976\n",
      "Epoch 26/30\n",
      "21/21 [==============================] - 2s 102ms/step - loss: 0.1280 - accuracy: 0.9717 - val_loss: 6.9659 - val_accuracy: 0.3095\n",
      "Epoch 27/30\n",
      "21/21 [==============================] - 2s 102ms/step - loss: 0.0862 - accuracy: 0.9777 - val_loss: 8.1910 - val_accuracy: 0.3274\n",
      "Epoch 28/30\n",
      "21/21 [==============================] - 2s 103ms/step - loss: 0.0247 - accuracy: 0.9955 - val_loss: 8.7732 - val_accuracy: 0.3512\n",
      "Epoch 29/30\n",
      "21/21 [==============================] - 2s 102ms/step - loss: 0.0338 - accuracy: 0.9926 - val_loss: 7.2681 - val_accuracy: 0.2976\n",
      "Epoch 30/30\n",
      "21/21 [==============================] - 2s 102ms/step - loss: 0.0203 - accuracy: 0.9970 - val_loss: 8.0915 - val_accuracy: 0.3274\n",
      "6/6 [==============================] - 0s 21ms/step - loss: 8.0915 - accuracy: 0.3274\n",
      "Test Accuracy: 32.74%\n"
     ]
    }
   ],
   "source": [
    "import tensorflow as tf\n",
    "from tensorflow.keras import layers, models\n",
    "\n",
    "\n",
    "model = models.Sequential()\n",
    "\n",
    "# Convolutional layers\n",
    "model.add(layers.Conv2D(32, (3, 3), activation='relu', input_shape=(224, 224, 3)))\n",
    "model.add(layers.MaxPooling2D((2, 2)))\n",
    "model.add(layers.Conv2D(64, (3, 3), activation='relu'))\n",
    "model.add(layers.MaxPooling2D((2, 2)))\n",
    "model.add(layers.Conv2D(128, (3, 3), activation='relu'))\n",
    "model.add(layers.MaxPooling2D((2, 2)))\n",
    "\n",
    "# Flatten the output for Dense layers\n",
    "model.add(layers.Flatten())\n",
    "\n",
    "# Dense layers\n",
    "model.add(layers.Dense(128, activation='relu'))\n",
    "model.add(layers.Dense(64, activation='relu'))\n",
    "\n",
    "model.add(layers.Dense(21, activation='softmax'))\n",
    "\n",
    "# Compile the model\n",
    "model.compile(optimizer='adam', loss='sparse_categorical_crossentropy', metrics=['accuracy'])\n",
    "\n",
    "# Train the model\n",
    "history = model.fit(X_train_scaled, y_train, epochs=30, validation_data=(X_test_scaled, y_test))\n",
    "\n",
    "# Evaluate the model\n",
    "test_loss, test_accuracy = model.evaluate(X_test_scaled, y_test)\n",
    "print(f'Test Accuracy: {test_accuracy * 100:.2f}%')\n"
   ]
  },
  {
   "cell_type": "code",
   "execution_count": 16,
   "metadata": {},
   "outputs": [
    {
     "name": "stdout",
     "output_type": "stream",
     "text": [
      "6/6 [==============================] - 0s 73ms/step\n",
      "MobileNet Accuracy: 0.2916666666666667\n",
      "\n",
      "MobileNet Report:\n",
      "              precision    recall  f1-score   support\n",
      "\n",
      "           0       0.58      0.78      0.67         9\n",
      "           1       0.33      0.44      0.38         9\n",
      "           2       0.25      0.50      0.33         4\n",
      "           3       0.00      0.00      0.00         9\n",
      "           4       0.00      0.00      0.00         5\n",
      "           5       0.20      0.12      0.15         8\n",
      "           6       0.50      0.31      0.38        13\n",
      "           7       0.33      0.18      0.24        11\n",
      "           8       0.09      0.17      0.12         6\n",
      "           9       0.00      0.00      0.00         6\n",
      "          10       0.29      0.22      0.25         9\n",
      "          11       0.56      0.56      0.56         9\n",
      "          12       0.75      0.25      0.38        12\n",
      "          13       0.11      0.50      0.18         4\n",
      "          14       0.17      0.17      0.17         6\n",
      "          15       0.29      0.29      0.29         7\n",
      "          16       1.00      0.27      0.43        11\n",
      "          17       0.10      0.25      0.14         4\n",
      "          18       0.44      0.57      0.50         7\n",
      "          19       0.67      0.22      0.33         9\n",
      "          20       0.33      0.30      0.32        10\n",
      "\n",
      "    accuracy                           0.29       168\n",
      "   macro avg       0.33      0.29      0.28       168\n",
      "weighted avg       0.39      0.29      0.30       168\n",
      "\n"
     ]
    },
    {
     "data": {
      "image/png": "[encoded data removed]",
      "text/plain": [
       "<Figure size 800x600 with 1 Axes>"
      ]
     },
     "metadata": {},
     "output_type": "display_data"
    }
   ],
   "source": [
    "import numpy as np\n",
    "import matplotlib.pyplot as plt\n",
    "from sklearn.metrics import confusion_matrix, classification_report\n",
    "import seaborn as sns\n",
    "predictions = np.argmax(model.predict(X_test), axis=-1)\n",
    "\n",
    "acc = np.sum(predictions == y_test) / len(y_test)\n",
    "print('MobileNet Accuracy:', acc)\n",
    "\n",
    "print('\\nMobileNet Report:')\n",
    "print(classification_report(y_test, predictions))\n",
    "\n",
    "cm = confusion_matrix(y_test, predictions)\n",
    "plt.figure(figsize=(8, 6))\n",
    "sns.heatmap(cm, annot=True, fmt='d',cbar=False, cmap='Blues', xticklabels=np.unique(y_test), yticklabels=np.unique(y_test))\n",
    "plt.xlabel('Predicted Label')\n",
    "plt.ylabel('True Label')\n",
    "plt.title('Confusion Matrix')\n",
    "plt.show()"
   ]
  },
  {
   "cell_type": "markdown",
   "metadata": {},
   "source": [
    "# VGG16"
   ]
  },
  {
   "cell_type": "code",
   "execution_count": 25,
   "metadata": {},
   "outputs": [
    {
     "name": "stdout",
     "output_type": "stream",
     "text": [
      "Epoch 1/30\n"
     ]
    },
    {
     "ename": "ResourceExhaustedError",
     "evalue": "Graph execution error:\n\nDetected at node 'model_3/block1_conv1/Relu' defined at (most recent call last):\n    File \"c:\\Program Files\\Python310\\lib\\runpy.py\", line 196, in _run_module_as_main\n      return _run_code(code, main_globals, None,\n    File \"c:\\Program Files\\Python310\\lib\\runpy.py\", line 86, in _run_code\n      exec(code, run_globals)\n    File \"C:\\Users\\ASUS\\AppData\\Roaming\\Python\\Python310\\site-packages\\ipykernel_launcher.py\", line 17, in <module>\n      app.launch_new_instance()\n    File \"C:\\Users\\ASUS\\AppData\\Roaming\\Python\\Python310\\site-packages\\traitlets\\config\\application.py\", line 1043, in launch_instance\n      app.start()\n    File \"C:\\Users\\ASUS\\AppData\\Roaming\\Python\\Python310\\site-packages\\ipykernel\\kernelapp.py\", line 736, in start\n      self.io_loop.start()\n    File \"C:\\Users\\ASUS\\AppData\\Roaming\\Python\\Python310\\site-packages\\tornado\\platform\\asyncio.py\", line 195, in start\n      self.asyncio_loop.run_forever()\n    File \"c:\\Program Files\\Python310\\lib\\asyncio\\base_events.py\", line 603, in run_forever\n      self._run_once()\n    File \"c:\\Program Files\\Python310\\lib\\asyncio\\base_events.py\", line 1909, in _run_once\n      handle._run()\n    File \"c:\\Program Files\\Python310\\lib\\asyncio\\events.py\", line 80, in _run\n      self._context.run(self._callback, *self._args)\n    File \"C:\\Users\\ASUS\\AppData\\Roaming\\Python\\Python310\\site-packages\\ipykernel\\kernelbase.py\", line 516, in dispatch_queue\n      await self.process_one()\n    File \"C:\\Users\\ASUS\\AppData\\Roaming\\Python\\Python310\\site-packages\\ipykernel\\kernelbase.py\", line 505, in process_one\n      await dispatch(*args)\n    File \"C:\\Users\\ASUS\\AppData\\Roaming\\Python\\Python310\\site-packages\\ipykernel\\kernelbase.py\", line 412, in dispatch_shell\n      await result\n    File \"C:\\Users\\ASUS\\AppData\\Roaming\\Python\\Python310\\site-packages\\ipykernel\\kernelbase.py\", line 740, in execute_request\n      reply_content = await reply_content\n    File \"C:\\Users\\ASUS\\AppData\\Roaming\\Python\\Python310\\site-packages\\ipykernel\\ipkernel.py\", line 422, in do_execute\n      res = shell.run_cell(\n    File \"C:\\Users\\ASUS\\AppData\\Roaming\\Python\\Python310\\site-packages\\ipykernel\\zmqshell.py\", line 546, in run_cell\n      return super().run_cell(*args, **kwargs)\n    File \"C:\\Users\\ASUS\\AppData\\Roaming\\Python\\Python310\\site-packages\\IPython\\core\\interactiveshell.py\", line 3009, in run_cell\n      result = self._run_cell(\n    File \"C:\\Users\\ASUS\\AppData\\Roaming\\Python\\Python310\\site-packages\\IPython\\core\\interactiveshell.py\", line 3064, in _run_cell\n      result = runner(coro)\n    File \"C:\\Users\\ASUS\\AppData\\Roaming\\Python\\Python310\\site-packages\\IPython\\core\\async_helpers.py\", line 129, in _pseudo_sync_runner\n      coro.send(None)\n    File \"C:\\Users\\ASUS\\AppData\\Roaming\\Python\\Python310\\site-packages\\IPython\\core\\interactiveshell.py\", line 3269, in run_cell_async\n      has_raised = await self.run_ast_nodes(code_ast.body, cell_name,\n    File \"C:\\Users\\ASUS\\AppData\\Roaming\\Python\\Python310\\site-packages\\IPython\\core\\interactiveshell.py\", line 3448, in run_ast_nodes\n      if await self.run_code(code, result, async_=asy):\n    File \"C:\\Users\\ASUS\\AppData\\Roaming\\Python\\Python310\\site-packages\\IPython\\core\\interactiveshell.py\", line 3508, in run_code\n      exec(code_obj, self.user_global_ns, self.user_ns)\n    File \"C:\\Users\\ASUS\\AppData\\Local\\Temp\\ipykernel_23336\\1658249306.py\", line 23, in <module>\n      history = model.fit(\n    File \"C:\\Users\\ASUS\\AppData\\Roaming\\Python\\Python310\\site-packages\\keras\\utils\\traceback_utils.py\", line 65, in error_handler\n      return fn(*args, **kwargs)\n    File \"C:\\Users\\ASUS\\AppData\\Roaming\\Python\\Python310\\site-packages\\keras\\engine\\training.py\", line 1564, in fit\n      tmp_logs = self.train_function(iterator)\n    File \"C:\\Users\\ASUS\\AppData\\Roaming\\Python\\Python310\\site-packages\\keras\\engine\\training.py\", line 1160, in train_function\n      return step_function(self, iterator)\n    File \"C:\\Users\\ASUS\\AppData\\Roaming\\Python\\Python310\\site-packages\\keras\\engine\\training.py\", line 1146, in step_function\n      outputs = model.distribute_strategy.run(run_step, args=(data,))\n    File \"C:\\Users\\ASUS\\AppData\\Roaming\\Python\\Python310\\site-packages\\keras\\engine\\training.py\", line 1135, in run_step\n      outputs = model.train_step(data)\n    File \"C:\\Users\\ASUS\\AppData\\Roaming\\Python\\Python310\\site-packages\\keras\\engine\\training.py\", line 993, in train_step\n      y_pred = self(x, training=True)\n    File \"C:\\Users\\ASUS\\AppData\\Roaming\\Python\\Python310\\site-packages\\keras\\utils\\traceback_utils.py\", line 65, in error_handler\n      return fn(*args, **kwargs)\n    File \"C:\\Users\\ASUS\\AppData\\Roaming\\Python\\Python310\\site-packages\\keras\\engine\\training.py\", line 557, in __call__\n      return super().__call__(*args, **kwargs)\n    File \"C:\\Users\\ASUS\\AppData\\Roaming\\Python\\Python310\\site-packages\\keras\\utils\\traceback_utils.py\", line 65, in error_handler\n      return fn(*args, **kwargs)\n    File \"C:\\Users\\ASUS\\AppData\\Roaming\\Python\\Python310\\site-packages\\keras\\engine\\base_layer.py\", line 1097, in __call__\n      outputs = call_fn(inputs, *args, **kwargs)\n    File \"C:\\Users\\ASUS\\AppData\\Roaming\\Python\\Python310\\site-packages\\keras\\utils\\traceback_utils.py\", line 96, in error_handler\n      return fn(*args, **kwargs)\n    File \"C:\\Users\\ASUS\\AppData\\Roaming\\Python\\Python310\\site-packages\\keras\\engine\\functional.py\", line 510, in call\n      return self._run_internal_graph(inputs, training=training, mask=mask)\n    File \"C:\\Users\\ASUS\\AppData\\Roaming\\Python\\Python310\\site-packages\\keras\\engine\\functional.py\", line 667, in _run_internal_graph\n      outputs = node.layer(*args, **kwargs)\n    File \"C:\\Users\\ASUS\\AppData\\Roaming\\Python\\Python310\\site-packages\\keras\\utils\\traceback_utils.py\", line 65, in error_handler\n      return fn(*args, **kwargs)\n    File \"C:\\Users\\ASUS\\AppData\\Roaming\\Python\\Python310\\site-packages\\keras\\engine\\base_layer.py\", line 1097, in __call__\n      outputs = call_fn(inputs, *args, **kwargs)\n    File \"C:\\Users\\ASUS\\AppData\\Roaming\\Python\\Python310\\site-packages\\keras\\utils\\traceback_utils.py\", line 96, in error_handler\n      return fn(*args, **kwargs)\n    File \"C:\\Users\\ASUS\\AppData\\Roaming\\Python\\Python310\\site-packages\\keras\\layers\\convolutional\\base_conv.py\", line 314, in call\n      return self.activation(outputs)\n    File \"C:\\Users\\ASUS\\AppData\\Roaming\\Python\\Python310\\site-packages\\keras\\activations.py\", line 317, in relu\n      return backend.relu(\n    File \"C:\\Users\\ASUS\\AppData\\Roaming\\Python\\Python310\\site-packages\\keras\\backend.py\", line 5366, in relu\n      x = tf.nn.relu(x)\nNode: 'model_3/block1_conv1/Relu'\nOOM when allocating tensor with shape[10,64,224,224] and type float on /job:localhost/replica:0/task:0/device:GPU:0 by allocator GPU_0_bfc\n\t [[{{node model_3/block1_conv1/Relu}}]]\nHint: If you want to see a list of allocated tensors when OOM happens, add report_tensor_allocations_upon_oom to RunOptions for current allocation info. This isn't available when running in Eager mode.\n [Op:__inference_train_function_61512]",
     "output_type": "error",
     "traceback": [
      "\u001b[1;31m---------------------------------------------------------------------------\u001b[0m",
      "\u001b[1;31mResourceExhaustedError\u001b[0m                    Traceback (most recent call last)",
      "Cell \u001b[1;32mIn[25], line 23\u001b[0m\n\u001b[0;32m     21\u001b[0m model \u001b[38;5;241m=\u001b[39m Model(inputs\u001b[38;5;241m=\u001b[39mbase_model\u001b[38;5;241m.\u001b[39minput, outputs\u001b[38;5;241m=\u001b[39moutput)\n\u001b[0;32m     22\u001b[0m model\u001b[38;5;241m.\u001b[39mcompile(optimizer\u001b[38;5;241m=\u001b[39mAdam(lr\u001b[38;5;241m=\u001b[39m\u001b[38;5;241m0.001\u001b[39m), loss\u001b[38;5;241m=\u001b[39m\u001b[38;5;124m'\u001b[39m\u001b[38;5;124msparse_categorical_crossentropy\u001b[39m\u001b[38;5;124m'\u001b[39m, metrics\u001b[38;5;241m=\u001b[39m[\u001b[38;5;124m'\u001b[39m\u001b[38;5;124maccuracy\u001b[39m\u001b[38;5;124m'\u001b[39m])\n\u001b[1;32m---> 23\u001b[0m history \u001b[38;5;241m=\u001b[39m \u001b[43mmodel\u001b[49m\u001b[38;5;241;43m.\u001b[39;49m\u001b[43mfit\u001b[49m\u001b[43m(\u001b[49m\n\u001b[0;32m     24\u001b[0m \u001b[43m    \u001b[49m\u001b[43mX_train\u001b[49m\u001b[43m,\u001b[49m\u001b[43m \u001b[49m\u001b[43my_train\u001b[49m\u001b[43m,\u001b[49m\n\u001b[0;32m     25\u001b[0m \u001b[43m    \u001b[49m\u001b[43mepochs\u001b[49m\u001b[38;5;241;43m=\u001b[39;49m\u001b[38;5;241;43m30\u001b[39;49m\u001b[43m,\u001b[49m\n\u001b[0;32m     26\u001b[0m \u001b[43m    \u001b[49m\u001b[43mbatch_size\u001b[49m\u001b[38;5;241;43m=\u001b[39;49m\u001b[38;5;241;43m10\u001b[39;49m\u001b[43m,\u001b[49m\n\u001b[0;32m     27\u001b[0m \u001b[43m    \u001b[49m\u001b[43mvalidation_data\u001b[49m\u001b[38;5;241;43m=\u001b[39;49m\u001b[43m(\u001b[49m\u001b[43mX_test\u001b[49m\u001b[43m,\u001b[49m\u001b[43m \u001b[49m\u001b[43my_test\u001b[49m\u001b[43m)\u001b[49m\n\u001b[0;32m     28\u001b[0m \u001b[43m)\u001b[49m\n",
      "File \u001b[1;32m~\\AppData\\Roaming\\Python\\Python310\\site-packages\\keras\\utils\\traceback_utils.py:70\u001b[0m, in \u001b[0;36mfilter_traceback.<locals>.error_handler\u001b[1;34m(*args, **kwargs)\u001b[0m\n\u001b[0;32m     67\u001b[0m     filtered_tb \u001b[38;5;241m=\u001b[39m _process_traceback_frames(e\u001b[38;5;241m.\u001b[39m__traceback__)\n\u001b[0;32m     68\u001b[0m     \u001b[38;5;66;03m# To get the full stack trace, call:\u001b[39;00m\n\u001b[0;32m     69\u001b[0m     \u001b[38;5;66;03m# `tf.debugging.disable_traceback_filtering()`\u001b[39;00m\n\u001b[1;32m---> 70\u001b[0m     \u001b[38;5;28;01mraise\u001b[39;00m e\u001b[38;5;241m.\u001b[39mwith_traceback(filtered_tb) \u001b[38;5;28;01mfrom\u001b[39;00m \u001b[38;5;28;01mNone\u001b[39;00m\n\u001b[0;32m     71\u001b[0m \u001b[38;5;28;01mfinally\u001b[39;00m:\n\u001b[0;32m     72\u001b[0m     \u001b[38;5;28;01mdel\u001b[39;00m filtered_tb\n",
      "File \u001b[1;32m~\\AppData\\Roaming\\Python\\Python310\\site-packages\\tensorflow\\python\\eager\\execute.py:54\u001b[0m, in \u001b[0;36mquick_execute\u001b[1;34m(op_name, num_outputs, inputs, attrs, ctx, name)\u001b[0m\n\u001b[0;32m     52\u001b[0m \u001b[38;5;28;01mtry\u001b[39;00m:\n\u001b[0;32m     53\u001b[0m   ctx\u001b[38;5;241m.\u001b[39mensure_initialized()\n\u001b[1;32m---> 54\u001b[0m   tensors \u001b[38;5;241m=\u001b[39m pywrap_tfe\u001b[38;5;241m.\u001b[39mTFE_Py_Execute(ctx\u001b[38;5;241m.\u001b[39m_handle, device_name, op_name,\n\u001b[0;32m     55\u001b[0m                                       inputs, attrs, num_outputs)\n\u001b[0;32m     56\u001b[0m \u001b[38;5;28;01mexcept\u001b[39;00m core\u001b[38;5;241m.\u001b[39m_NotOkStatusException \u001b[38;5;28;01mas\u001b[39;00m e:\n\u001b[0;32m     57\u001b[0m   \u001b[38;5;28;01mif\u001b[39;00m name \u001b[38;5;129;01mis\u001b[39;00m \u001b[38;5;129;01mnot\u001b[39;00m \u001b[38;5;28;01mNone\u001b[39;00m:\n",
      "\u001b[1;31mResourceExhaustedError\u001b[0m: Graph execution error:\n\nDetected at node 'model_3/block1_conv1/Relu' defined at (most recent call last):\n    File \"c:\\Program Files\\Python310\\lib\\runpy.py\", line 196, in _run_module_as_main\n      return _run_code(code, main_globals, None,\n    File \"c:\\Program Files\\Python310\\lib\\runpy.py\", line 86, in _run_code\n      exec(code, run_globals)\n    File \"C:\\Users\\ASUS\\AppData\\Roaming\\Python\\Python310\\site-packages\\ipykernel_launcher.py\", line 17, in <module>\n      app.launch_new_instance()\n    File \"C:\\Users\\ASUS\\AppData\\Roaming\\Python\\Python310\\site-packages\\traitlets\\config\\application.py\", line 1043, in launch_instance\n      app.start()\n    File \"C:\\Users\\ASUS\\AppData\\Roaming\\Python\\Python310\\site-packages\\ipykernel\\kernelapp.py\", line 736, in start\n      self.io_loop.start()\n    File \"C:\\Users\\ASUS\\AppData\\Roaming\\Python\\Python310\\site-packages\\tornado\\platform\\asyncio.py\", line 195, in start\n      self.asyncio_loop.run_forever()\n    File \"c:\\Program Files\\Python310\\lib\\asyncio\\base_events.py\", line 603, in run_forever\n      self._run_once()\n    File \"c:\\Program Files\\Python310\\lib\\asyncio\\base_events.py\", line 1909, in _run_once\n      handle._run()\n    File \"c:\\Program Files\\Python310\\lib\\asyncio\\events.py\", line 80, in _run\n      self._context.run(self._callback, *self._args)\n    File \"C:\\Users\\ASUS\\AppData\\Roaming\\Python\\Python310\\site-packages\\ipykernel\\kernelbase.py\", line 516, in dispatch_queue\n      await self.process_one()\n    File \"C:\\Users\\ASUS\\AppData\\Roaming\\Python\\Python310\\site-packages\\ipykernel\\kernelbase.py\", line 505, in process_one\n      await dispatch(*args)\n    File \"C:\\Users\\ASUS\\AppData\\Roaming\\Python\\Python310\\site-packages\\ipykernel\\kernelbase.py\", line 412, in dispatch_shell\n      await result\n    File \"C:\\Users\\ASUS\\AppData\\Roaming\\Python\\Python310\\site-packages\\ipykernel\\kernelbase.py\", line 740, in execute_request\n      reply_content = await reply_content\n    File \"C:\\Users\\ASUS\\AppData\\Roaming\\Python\\Python310\\site-packages\\ipykernel\\ipkernel.py\", line 422, in do_execute\n      res = shell.run_cell(\n    File \"C:\\Users\\ASUS\\AppData\\Roaming\\Python\\Python310\\site-packages\\ipykernel\\zmqshell.py\", line 546, in run_cell\n      return super().run_cell(*args, **kwargs)\n    File \"C:\\Users\\ASUS\\AppData\\Roaming\\Python\\Python310\\site-packages\\IPython\\core\\interactiveshell.py\", line 3009, in run_cell\n      result = self._run_cell(\n    File \"C:\\Users\\ASUS\\AppData\\Roaming\\Python\\Python310\\site-packages\\IPython\\core\\interactiveshell.py\", line 3064, in _run_cell\n      result = runner(coro)\n    File \"C:\\Users\\ASUS\\AppData\\Roaming\\Python\\Python310\\site-packages\\IPython\\core\\async_helpers.py\", line 129, in _pseudo_sync_runner\n      coro.send(None)\n    File \"C:\\Users\\ASUS\\AppData\\Roaming\\Python\\Python310\\site-packages\\IPython\\core\\interactiveshell.py\", line 3269, in run_cell_async\n      has_raised = await self.run_ast_nodes(code_ast.body, cell_name,\n    File \"C:\\Users\\ASUS\\AppData\\Roaming\\Python\\Python310\\site-packages\\IPython\\core\\interactiveshell.py\", line 3448, in run_ast_nodes\n      if await self.run_code(code, result, async_=asy):\n    File \"C:\\Users\\ASUS\\AppData\\Roaming\\Python\\Python310\\site-packages\\IPython\\core\\interactiveshell.py\", line 3508, in run_code\n      exec(code_obj, self.user_global_ns, self.user_ns)\n    File \"C:\\Users\\ASUS\\AppData\\Local\\Temp\\ipykernel_23336\\1658249306.py\", line 23, in <module>\n      history = model.fit(\n    File \"C:\\Users\\ASUS\\AppData\\Roaming\\Python\\Python310\\site-packages\\keras\\utils\\traceback_utils.py\", line 65, in error_handler\n      return fn(*args, **kwargs)\n    File \"C:\\Users\\ASUS\\AppData\\Roaming\\Python\\Python310\\site-packages\\keras\\engine\\training.py\", line 1564, in fit\n      tmp_logs = self.train_function(iterator)\n    File \"C:\\Users\\ASUS\\AppData\\Roaming\\Python\\Python310\\site-packages\\keras\\engine\\training.py\", line 1160, in train_function\n      return step_function(self, iterator)\n    File \"C:\\Users\\ASUS\\AppData\\Roaming\\Python\\Python310\\site-packages\\keras\\engine\\training.py\", line 1146, in step_function\n      outputs = model.distribute_strategy.run(run_step, args=(data,))\n    File \"C:\\Users\\ASUS\\AppData\\Roaming\\Python\\Python310\\site-packages\\keras\\engine\\training.py\", line 1135, in run_step\n      outputs = model.train_step(data)\n    File \"C:\\Users\\ASUS\\AppData\\Roaming\\Python\\Python310\\site-packages\\keras\\engine\\training.py\", line 993, in train_step\n      y_pred = self(x, training=True)\n    File \"C:\\Users\\ASUS\\AppData\\Roaming\\Python\\Python310\\site-packages\\keras\\utils\\traceback_utils.py\", line 65, in error_handler\n      return fn(*args, **kwargs)\n    File \"C:\\Users\\ASUS\\AppData\\Roaming\\Python\\Python310\\site-packages\\keras\\engine\\training.py\", line 557, in __call__\n      return super().__call__(*args, **kwargs)\n    File \"C:\\Users\\ASUS\\AppData\\Roaming\\Python\\Python310\\site-packages\\keras\\utils\\traceback_utils.py\", line 65, in error_handler\n      return fn(*args, **kwargs)\n    File \"C:\\Users\\ASUS\\AppData\\Roaming\\Python\\Python310\\site-packages\\keras\\engine\\base_layer.py\", line 1097, in __call__\n      outputs = call_fn(inputs, *args, **kwargs)\n    File \"C:\\Users\\ASUS\\AppData\\Roaming\\Python\\Python310\\site-packages\\keras\\utils\\traceback_utils.py\", line 96, in error_handler\n      return fn(*args, **kwargs)\n    File \"C:\\Users\\ASUS\\AppData\\Roaming\\Python\\Python310\\site-packages\\keras\\engine\\functional.py\", line 510, in call\n      return self._run_internal_graph(inputs, training=training, mask=mask)\n    File \"C:\\Users\\ASUS\\AppData\\Roaming\\Python\\Python310\\site-packages\\keras\\engine\\functional.py\", line 667, in _run_internal_graph\n      outputs = node.layer(*args, **kwargs)\n    File \"C:\\Users\\ASUS\\AppData\\Roaming\\Python\\Python310\\site-packages\\keras\\utils\\traceback_utils.py\", line 65, in error_handler\n      return fn(*args, **kwargs)\n    File \"C:\\Users\\ASUS\\AppData\\Roaming\\Python\\Python310\\site-packages\\keras\\engine\\base_layer.py\", line 1097, in __call__\n      outputs = call_fn(inputs, *args, **kwargs)\n    File \"C:\\Users\\ASUS\\AppData\\Roaming\\Python\\Python310\\site-packages\\keras\\utils\\traceback_utils.py\", line 96, in error_handler\n      return fn(*args, **kwargs)\n    File \"C:\\Users\\ASUS\\AppData\\Roaming\\Python\\Python310\\site-packages\\keras\\layers\\convolutional\\base_conv.py\", line 314, in call\n      return self.activation(outputs)\n    File \"C:\\Users\\ASUS\\AppData\\Roaming\\Python\\Python310\\site-packages\\keras\\activations.py\", line 317, in relu\n      return backend.relu(\n    File \"C:\\Users\\ASUS\\AppData\\Roaming\\Python\\Python310\\site-packages\\keras\\backend.py\", line 5366, in relu\n      x = tf.nn.relu(x)\nNode: 'model_3/block1_conv1/Relu'\nOOM when allocating tensor with shape[10,64,224,224] and type float on /job:localhost/replica:0/task:0/device:GPU:0 by allocator GPU_0_bfc\n\t [[{{node model_3/block1_conv1/Relu}}]]\nHint: If you want to see a list of allocated tensors when OOM happens, add report_tensor_allocations_upon_oom to RunOptions for current allocation info. This isn't available when running in Eager mode.\n [Op:__inference_train_function_61512]"
     ]
    }
   ],
   "source": [
    "import tensorflow as tf\n",
    "from tensorflow.keras.applications import VGG16\n",
    "from tensorflow.keras.layers import Dense, Flatten\n",
    "from tensorflow.keras.models import Model\n",
    "from tensorflow.keras.optimizers import Adam\n",
    "from tensorflow.keras.utils import to_categorical\n",
    "\n",
    "# Load the pretrained VGG16 model (excluding the top classification layer)\n",
    "base_model = VGG16(weights='imagenet', include_top=False, input_shape=(224, 224, 3))\n",
    "\n",
    "# Freeze the layers of the base model\n",
    "for layer in base_model.layers:\n",
    "    layer.trainable = False\n",
    "    \n",
    "x = Flatten()(base_model.output)\n",
    "x = Dense(512, activation='relu')(x)\n",
    "x = Dense(224, activation='relu')(x)\n",
    "output = Dense(21, activation='softmax')(x)\n",
    "\n",
    "\n",
    "model = Model(inputs=base_model.input, outputs=output)\n",
    "model.compile(optimizer=Adam(lr=0.001), loss='sparse_categorical_crossentropy', metrics=['accuracy'])\n",
    "history = model.fit(\n",
    "    X_train, y_train,\n",
    "    epochs=30,\n",
    "    batch_size=10,\n",
    "    validation_data=(X_test, y_test)\n",
    ")\n"
   ]
  },
  {
   "cell_type": "code",
   "execution_count": 20,
   "metadata": {},
   "outputs": [
    {
     "ename": "ResourceExhaustedError",
     "evalue": "Graph execution error:\n\nDetected at node 'model_1/block1_conv1/Relu' defined at (most recent call last):\n    File \"c:\\Program Files\\Python310\\lib\\runpy.py\", line 196, in _run_module_as_main\n      return _run_code(code, main_globals, None,\n    File \"c:\\Program Files\\Python310\\lib\\runpy.py\", line 86, in _run_code\n      exec(code, run_globals)\n    File \"C:\\Users\\ASUS\\AppData\\Roaming\\Python\\Python310\\site-packages\\ipykernel_launcher.py\", line 17, in <module>\n      app.launch_new_instance()\n    File \"C:\\Users\\ASUS\\AppData\\Roaming\\Python\\Python310\\site-packages\\traitlets\\config\\application.py\", line 1043, in launch_instance\n      app.start()\n    File \"C:\\Users\\ASUS\\AppData\\Roaming\\Python\\Python310\\site-packages\\ipykernel\\kernelapp.py\", line 736, in start\n      self.io_loop.start()\n    File \"C:\\Users\\ASUS\\AppData\\Roaming\\Python\\Python310\\site-packages\\tornado\\platform\\asyncio.py\", line 195, in start\n      self.asyncio_loop.run_forever()\n    File \"c:\\Program Files\\Python310\\lib\\asyncio\\base_events.py\", line 603, in run_forever\n      self._run_once()\n    File \"c:\\Program Files\\Python310\\lib\\asyncio\\base_events.py\", line 1909, in _run_once\n      handle._run()\n    File \"c:\\Program Files\\Python310\\lib\\asyncio\\events.py\", line 80, in _run\n      self._context.run(self._callback, *self._args)\n    File \"C:\\Users\\ASUS\\AppData\\Roaming\\Python\\Python310\\site-packages\\ipykernel\\kernelbase.py\", line 516, in dispatch_queue\n      await self.process_one()\n    File \"C:\\Users\\ASUS\\AppData\\Roaming\\Python\\Python310\\site-packages\\ipykernel\\kernelbase.py\", line 505, in process_one\n      await dispatch(*args)\n    File \"C:\\Users\\ASUS\\AppData\\Roaming\\Python\\Python310\\site-packages\\ipykernel\\kernelbase.py\", line 412, in dispatch_shell\n      await result\n    File \"C:\\Users\\ASUS\\AppData\\Roaming\\Python\\Python310\\site-packages\\ipykernel\\kernelbase.py\", line 740, in execute_request\n      reply_content = await reply_content\n    File \"C:\\Users\\ASUS\\AppData\\Roaming\\Python\\Python310\\site-packages\\ipykernel\\ipkernel.py\", line 422, in do_execute\n      res = shell.run_cell(\n    File \"C:\\Users\\ASUS\\AppData\\Roaming\\Python\\Python310\\site-packages\\ipykernel\\zmqshell.py\", line 546, in run_cell\n      return super().run_cell(*args, **kwargs)\n    File \"C:\\Users\\ASUS\\AppData\\Roaming\\Python\\Python310\\site-packages\\IPython\\core\\interactiveshell.py\", line 3009, in run_cell\n      result = self._run_cell(\n    File \"C:\\Users\\ASUS\\AppData\\Roaming\\Python\\Python310\\site-packages\\IPython\\core\\interactiveshell.py\", line 3064, in _run_cell\n      result = runner(coro)\n    File \"C:\\Users\\ASUS\\AppData\\Roaming\\Python\\Python310\\site-packages\\IPython\\core\\async_helpers.py\", line 129, in _pseudo_sync_runner\n      coro.send(None)\n    File \"C:\\Users\\ASUS\\AppData\\Roaming\\Python\\Python310\\site-packages\\IPython\\core\\interactiveshell.py\", line 3269, in run_cell_async\n      has_raised = await self.run_ast_nodes(code_ast.body, cell_name,\n    File \"C:\\Users\\ASUS\\AppData\\Roaming\\Python\\Python310\\site-packages\\IPython\\core\\interactiveshell.py\", line 3448, in run_ast_nodes\n      if await self.run_code(code, result, async_=asy):\n    File \"C:\\Users\\ASUS\\AppData\\Roaming\\Python\\Python310\\site-packages\\IPython\\core\\interactiveshell.py\", line 3508, in run_code\n      exec(code_obj, self.user_global_ns, self.user_ns)\n    File \"C:\\Users\\ASUS\\AppData\\Local\\Temp\\ipykernel_23336\\3413894699.py\", line 5, in <module>\n      predictions = np.argmax(model.predict(X_test), axis=-1)\n    File \"C:\\Users\\ASUS\\AppData\\Roaming\\Python\\Python310\\site-packages\\keras\\utils\\traceback_utils.py\", line 65, in error_handler\n      return fn(*args, **kwargs)\n    File \"C:\\Users\\ASUS\\AppData\\Roaming\\Python\\Python310\\site-packages\\keras\\engine\\training.py\", line 2253, in predict\n      tmp_batch_outputs = self.predict_function(iterator)\n    File \"C:\\Users\\ASUS\\AppData\\Roaming\\Python\\Python310\\site-packages\\keras\\engine\\training.py\", line 2041, in predict_function\n      return step_function(self, iterator)\n    File \"C:\\Users\\ASUS\\AppData\\Roaming\\Python\\Python310\\site-packages\\keras\\engine\\training.py\", line 2027, in step_function\n      outputs = model.distribute_strategy.run(run_step, args=(data,))\n    File \"C:\\Users\\ASUS\\AppData\\Roaming\\Python\\Python310\\site-packages\\keras\\engine\\training.py\", line 2015, in run_step\n      outputs = model.predict_step(data)\n    File \"C:\\Users\\ASUS\\AppData\\Roaming\\Python\\Python310\\site-packages\\keras\\engine\\training.py\", line 1983, in predict_step\n      return self(x, training=False)\n    File \"C:\\Users\\ASUS\\AppData\\Roaming\\Python\\Python310\\site-packages\\keras\\utils\\traceback_utils.py\", line 65, in error_handler\n      return fn(*args, **kwargs)\n    File \"C:\\Users\\ASUS\\AppData\\Roaming\\Python\\Python310\\site-packages\\keras\\engine\\training.py\", line 557, in __call__\n      return super().__call__(*args, **kwargs)\n    File \"C:\\Users\\ASUS\\AppData\\Roaming\\Python\\Python310\\site-packages\\keras\\utils\\traceback_utils.py\", line 65, in error_handler\n      return fn(*args, **kwargs)\n    File \"C:\\Users\\ASUS\\AppData\\Roaming\\Python\\Python310\\site-packages\\keras\\engine\\base_layer.py\", line 1097, in __call__\n      outputs = call_fn(inputs, *args, **kwargs)\n    File \"C:\\Users\\ASUS\\AppData\\Roaming\\Python\\Python310\\site-packages\\keras\\utils\\traceback_utils.py\", line 96, in error_handler\n      return fn(*args, **kwargs)\n    File \"C:\\Users\\ASUS\\AppData\\Roaming\\Python\\Python310\\site-packages\\keras\\engine\\functional.py\", line 510, in call\n      return self._run_internal_graph(inputs, training=training, mask=mask)\n    File \"C:\\Users\\ASUS\\AppData\\Roaming\\Python\\Python310\\site-packages\\keras\\engine\\functional.py\", line 667, in _run_internal_graph\n      outputs = node.layer(*args, **kwargs)\n    File \"C:\\Users\\ASUS\\AppData\\Roaming\\Python\\Python310\\site-packages\\keras\\utils\\traceback_utils.py\", line 65, in error_handler\n      return fn(*args, **kwargs)\n    File \"C:\\Users\\ASUS\\AppData\\Roaming\\Python\\Python310\\site-packages\\keras\\engine\\base_layer.py\", line 1097, in __call__\n      outputs = call_fn(inputs, *args, **kwargs)\n    File \"C:\\Users\\ASUS\\AppData\\Roaming\\Python\\Python310\\site-packages\\keras\\utils\\traceback_utils.py\", line 96, in error_handler\n      return fn(*args, **kwargs)\n    File \"C:\\Users\\ASUS\\AppData\\Roaming\\Python\\Python310\\site-packages\\keras\\layers\\convolutional\\base_conv.py\", line 314, in call\n      return self.activation(outputs)\n    File \"C:\\Users\\ASUS\\AppData\\Roaming\\Python\\Python310\\site-packages\\keras\\activations.py\", line 317, in relu\n      return backend.relu(\n    File \"C:\\Users\\ASUS\\AppData\\Roaming\\Python\\Python310\\site-packages\\keras\\backend.py\", line 5366, in relu\n      x = tf.nn.relu(x)\nNode: 'model_1/block1_conv1/Relu'\nOOM when allocating tensor with shape[32,64,224,224] and type float on /job:localhost/replica:0/task:0/device:GPU:0 by allocator GPU_0_bfc\n\t [[{{node model_1/block1_conv1/Relu}}]]\nHint: If you want to see a list of allocated tensors when OOM happens, add report_tensor_allocations_upon_oom to RunOptions for current allocation info. This isn't available when running in Eager mode.\n [Op:__inference_predict_function_19081]",
     "output_type": "error",
     "traceback": [
      "\u001b[1;31m---------------------------------------------------------------------------\u001b[0m",
      "\u001b[1;31mResourceExhaustedError\u001b[0m                    Traceback (most recent call last)",
      "Cell \u001b[1;32mIn[20], line 5\u001b[0m\n\u001b[0;32m      3\u001b[0m \u001b[38;5;28;01mfrom\u001b[39;00m \u001b[38;5;21;01msklearn\u001b[39;00m\u001b[38;5;21;01m.\u001b[39;00m\u001b[38;5;21;01mmetrics\u001b[39;00m \u001b[38;5;28;01mimport\u001b[39;00m confusion_matrix, classification_report\n\u001b[0;32m      4\u001b[0m \u001b[38;5;28;01mimport\u001b[39;00m \u001b[38;5;21;01mseaborn\u001b[39;00m \u001b[38;5;28;01mas\u001b[39;00m \u001b[38;5;21;01msns\u001b[39;00m\n\u001b[1;32m----> 5\u001b[0m predictions \u001b[38;5;241m=\u001b[39m np\u001b[38;5;241m.\u001b[39margmax(\u001b[43mmodel\u001b[49m\u001b[38;5;241;43m.\u001b[39;49m\u001b[43mpredict\u001b[49m\u001b[43m(\u001b[49m\u001b[43mX_test\u001b[49m\u001b[43m)\u001b[49m, axis\u001b[38;5;241m=\u001b[39m\u001b[38;5;241m-\u001b[39m\u001b[38;5;241m1\u001b[39m)\n\u001b[0;32m      7\u001b[0m acc \u001b[38;5;241m=\u001b[39m np\u001b[38;5;241m.\u001b[39msum(predictions \u001b[38;5;241m==\u001b[39m y_test) \u001b[38;5;241m/\u001b[39m \u001b[38;5;28mlen\u001b[39m(y_test)\n\u001b[0;32m      8\u001b[0m \u001b[38;5;28mprint\u001b[39m(\u001b[38;5;124m'\u001b[39m\u001b[38;5;124mMobileNet Accuracy:\u001b[39m\u001b[38;5;124m'\u001b[39m, acc)\n",
      "File \u001b[1;32m~\\AppData\\Roaming\\Python\\Python310\\site-packages\\keras\\utils\\traceback_utils.py:70\u001b[0m, in \u001b[0;36mfilter_traceback.<locals>.error_handler\u001b[1;34m(*args, **kwargs)\u001b[0m\n\u001b[0;32m     67\u001b[0m     filtered_tb \u001b[38;5;241m=\u001b[39m _process_traceback_frames(e\u001b[38;5;241m.\u001b[39m__traceback__)\n\u001b[0;32m     68\u001b[0m     \u001b[38;5;66;03m# To get the full stack trace, call:\u001b[39;00m\n\u001b[0;32m     69\u001b[0m     \u001b[38;5;66;03m# `tf.debugging.disable_traceback_filtering()`\u001b[39;00m\n\u001b[1;32m---> 70\u001b[0m     \u001b[38;5;28;01mraise\u001b[39;00m e\u001b[38;5;241m.\u001b[39mwith_traceback(filtered_tb) \u001b[38;5;28;01mfrom\u001b[39;00m \u001b[38;5;28;01mNone\u001b[39;00m\n\u001b[0;32m     71\u001b[0m \u001b[38;5;28;01mfinally\u001b[39;00m:\n\u001b[0;32m     72\u001b[0m     \u001b[38;5;28;01mdel\u001b[39;00m filtered_tb\n",
      "File \u001b[1;32m~\\AppData\\Roaming\\Python\\Python310\\site-packages\\tensorflow\\python\\eager\\execute.py:54\u001b[0m, in \u001b[0;36mquick_execute\u001b[1;34m(op_name, num_outputs, inputs, attrs, ctx, name)\u001b[0m\n\u001b[0;32m     52\u001b[0m \u001b[38;5;28;01mtry\u001b[39;00m:\n\u001b[0;32m     53\u001b[0m   ctx\u001b[38;5;241m.\u001b[39mensure_initialized()\n\u001b[1;32m---> 54\u001b[0m   tensors \u001b[38;5;241m=\u001b[39m pywrap_tfe\u001b[38;5;241m.\u001b[39mTFE_Py_Execute(ctx\u001b[38;5;241m.\u001b[39m_handle, device_name, op_name,\n\u001b[0;32m     55\u001b[0m                                       inputs, attrs, num_outputs)\n\u001b[0;32m     56\u001b[0m \u001b[38;5;28;01mexcept\u001b[39;00m core\u001b[38;5;241m.\u001b[39m_NotOkStatusException \u001b[38;5;28;01mas\u001b[39;00m e:\n\u001b[0;32m     57\u001b[0m   \u001b[38;5;28;01mif\u001b[39;00m name \u001b[38;5;129;01mis\u001b[39;00m \u001b[38;5;129;01mnot\u001b[39;00m \u001b[38;5;28;01mNone\u001b[39;00m:\n",
      "\u001b[1;31mResourceExhaustedError\u001b[0m: Graph execution error:\n\nDetected at node 'model_1/block1_conv1/Relu' defined at (most recent call last):\n    File \"c:\\Program Files\\Python310\\lib\\runpy.py\", line 196, in _run_module_as_main\n      return _run_code(code, main_globals, None,\n    File \"c:\\Program Files\\Python310\\lib\\runpy.py\", line 86, in _run_code\n      exec(code, run_globals)\n    File \"C:\\Users\\ASUS\\AppData\\Roaming\\Python\\Python310\\site-packages\\ipykernel_launcher.py\", line 17, in <module>\n      app.launch_new_instance()\n    File \"C:\\Users\\ASUS\\AppData\\Roaming\\Python\\Python310\\site-packages\\traitlets\\config\\application.py\", line 1043, in launch_instance\n      app.start()\n    File \"C:\\Users\\ASUS\\AppData\\Roaming\\Python\\Python310\\site-packages\\ipykernel\\kernelapp.py\", line 736, in start\n      self.io_loop.start()\n    File \"C:\\Users\\ASUS\\AppData\\Roaming\\Python\\Python310\\site-packages\\tornado\\platform\\asyncio.py\", line 195, in start\n      self.asyncio_loop.run_forever()\n    File \"c:\\Program Files\\Python310\\lib\\asyncio\\base_events.py\", line 603, in run_forever\n      self._run_once()\n    File \"c:\\Program Files\\Python310\\lib\\asyncio\\base_events.py\", line 1909, in _run_once\n      handle._run()\n    File \"c:\\Program Files\\Python310\\lib\\asyncio\\events.py\", line 80, in _run\n      self._context.run(self._callback, *self._args)\n    File \"C:\\Users\\ASUS\\AppData\\Roaming\\Python\\Python310\\site-packages\\ipykernel\\kernelbase.py\", line 516, in dispatch_queue\n      await self.process_one()\n    File \"C:\\Users\\ASUS\\AppData\\Roaming\\Python\\Python310\\site-packages\\ipykernel\\kernelbase.py\", line 505, in process_one\n      await dispatch(*args)\n    File \"C:\\Users\\ASUS\\AppData\\Roaming\\Python\\Python310\\site-packages\\ipykernel\\kernelbase.py\", line 412, in dispatch_shell\n      await result\n    File \"C:\\Users\\ASUS\\AppData\\Roaming\\Python\\Python310\\site-packages\\ipykernel\\kernelbase.py\", line 740, in execute_request\n      reply_content = await reply_content\n    File \"C:\\Users\\ASUS\\AppData\\Roaming\\Python\\Python310\\site-packages\\ipykernel\\ipkernel.py\", line 422, in do_execute\n      res = shell.run_cell(\n    File \"C:\\Users\\ASUS\\AppData\\Roaming\\Python\\Python310\\site-packages\\ipykernel\\zmqshell.py\", line 546, in run_cell\n      return super().run_cell(*args, **kwargs)\n    File \"C:\\Users\\ASUS\\AppData\\Roaming\\Python\\Python310\\site-packages\\IPython\\core\\interactiveshell.py\", line 3009, in run_cell\n      result = self._run_cell(\n    File \"C:\\Users\\ASUS\\AppData\\Roaming\\Python\\Python310\\site-packages\\IPython\\core\\interactiveshell.py\", line 3064, in _run_cell\n      result = runner(coro)\n    File \"C:\\Users\\ASUS\\AppData\\Roaming\\Python\\Python310\\site-packages\\IPython\\core\\async_helpers.py\", line 129, in _pseudo_sync_runner\n      coro.send(None)\n    File \"C:\\Users\\ASUS\\AppData\\Roaming\\Python\\Python310\\site-packages\\IPython\\core\\interactiveshell.py\", line 3269, in run_cell_async\n      has_raised = await self.run_ast_nodes(code_ast.body, cell_name,\n    File \"C:\\Users\\ASUS\\AppData\\Roaming\\Python\\Python310\\site-packages\\IPython\\core\\interactiveshell.py\", line 3448, in run_ast_nodes\n      if await self.run_code(code, result, async_=asy):\n    File \"C:\\Users\\ASUS\\AppData\\Roaming\\Python\\Python310\\site-packages\\IPython\\core\\interactiveshell.py\", line 3508, in run_code\n      exec(code_obj, self.user_global_ns, self.user_ns)\n    File \"C:\\Users\\ASUS\\AppData\\Local\\Temp\\ipykernel_23336\\3413894699.py\", line 5, in <module>\n      predictions = np.argmax(model.predict(X_test), axis=-1)\n    File \"C:\\Users\\ASUS\\AppData\\Roaming\\Python\\Python310\\site-packages\\keras\\utils\\traceback_utils.py\", line 65, in error_handler\n      return fn(*args, **kwargs)\n    File \"C:\\Users\\ASUS\\AppData\\Roaming\\Python\\Python310\\site-packages\\keras\\engine\\training.py\", line 2253, in predict\n      tmp_batch_outputs = self.predict_function(iterator)\n    File \"C:\\Users\\ASUS\\AppData\\Roaming\\Python\\Python310\\site-packages\\keras\\engine\\training.py\", line 2041, in predict_function\n      return step_function(self, iterator)\n    File \"C:\\Users\\ASUS\\AppData\\Roaming\\Python\\Python310\\site-packages\\keras\\engine\\training.py\", line 2027, in step_function\n      outputs = model.distribute_strategy.run(run_step, args=(data,))\n    File \"C:\\Users\\ASUS\\AppData\\Roaming\\Python\\Python310\\site-packages\\keras\\engine\\training.py\", line 2015, in run_step\n      outputs = model.predict_step(data)\n    File \"C:\\Users\\ASUS\\AppData\\Roaming\\Python\\Python310\\site-packages\\keras\\engine\\training.py\", line 1983, in predict_step\n      return self(x, training=False)\n    File \"C:\\Users\\ASUS\\AppData\\Roaming\\Python\\Python310\\site-packages\\keras\\utils\\traceback_utils.py\", line 65, in error_handler\n      return fn(*args, **kwargs)\n    File \"C:\\Users\\ASUS\\AppData\\Roaming\\Python\\Python310\\site-packages\\keras\\engine\\training.py\", line 557, in __call__\n      return super().__call__(*args, **kwargs)\n    File \"C:\\Users\\ASUS\\AppData\\Roaming\\Python\\Python310\\site-packages\\keras\\utils\\traceback_utils.py\", line 65, in error_handler\n      return fn(*args, **kwargs)\n    File \"C:\\Users\\ASUS\\AppData\\Roaming\\Python\\Python310\\site-packages\\keras\\engine\\base_layer.py\", line 1097, in __call__\n      outputs = call_fn(inputs, *args, **kwargs)\n    File \"C:\\Users\\ASUS\\AppData\\Roaming\\Python\\Python310\\site-packages\\keras\\utils\\traceback_utils.py\", line 96, in error_handler\n      return fn(*args, **kwargs)\n    File \"C:\\Users\\ASUS\\AppData\\Roaming\\Python\\Python310\\site-packages\\keras\\engine\\functional.py\", line 510, in call\n      return self._run_internal_graph(inputs, training=training, mask=mask)\n    File \"C:\\Users\\ASUS\\AppData\\Roaming\\Python\\Python310\\site-packages\\keras\\engine\\functional.py\", line 667, in _run_internal_graph\n      outputs = node.layer(*args, **kwargs)\n    File \"C:\\Users\\ASUS\\AppData\\Roaming\\Python\\Python310\\site-packages\\keras\\utils\\traceback_utils.py\", line 65, in error_handler\n      return fn(*args, **kwargs)\n    File \"C:\\Users\\ASUS\\AppData\\Roaming\\Python\\Python310\\site-packages\\keras\\engine\\base_layer.py\", line 1097, in __call__\n      outputs = call_fn(inputs, *args, **kwargs)\n    File \"C:\\Users\\ASUS\\AppData\\Roaming\\Python\\Python310\\site-packages\\keras\\utils\\traceback_utils.py\", line 96, in error_handler\n      return fn(*args, **kwargs)\n    File \"C:\\Users\\ASUS\\AppData\\Roaming\\Python\\Python310\\site-packages\\keras\\layers\\convolutional\\base_conv.py\", line 314, in call\n      return self.activation(outputs)\n    File \"C:\\Users\\ASUS\\AppData\\Roaming\\Python\\Python310\\site-packages\\keras\\activations.py\", line 317, in relu\n      return backend.relu(\n    File \"C:\\Users\\ASUS\\AppData\\Roaming\\Python\\Python310\\site-packages\\keras\\backend.py\", line 5366, in relu\n      x = tf.nn.relu(x)\nNode: 'model_1/block1_conv1/Relu'\nOOM when allocating tensor with shape[32,64,224,224] and type float on /job:localhost/replica:0/task:0/device:GPU:0 by allocator GPU_0_bfc\n\t [[{{node model_1/block1_conv1/Relu}}]]\nHint: If you want to see a list of allocated tensors when OOM happens, add report_tensor_allocations_upon_oom to RunOptions for current allocation info. This isn't available when running in Eager mode.\n [Op:__inference_predict_function_19081]"
     ]
    }
   ],
   "source": [
    "import numpy as np\n",
    "import matplotlib.pyplot as plt\n",
    "from sklearn.metrics import confusion_matrix, classification_report\n",
    "import seaborn as sns\n",
    "predictions = np.argmax(model.predict(X_test), axis=-1)\n",
    "\n",
    "acc = np.sum(predictions == y_test) / len(y_test)\n",
    "print('MobileNet Accuracy:', acc)\n",
    "\n",
    "print('\\nMobileNet Report:')\n",
    "print(classification_report(y_test, predictions))\n",
    "\n",
    "cm = confusion_matrix(y_test, predictions)\n",
    "plt.figure(figsize=(8, 6))\n",
    "sns.heatmap(cm, annot=True, fmt='d',cbar=False, cmap='Blues', xticklabels=np.unique(y_test), yticklabels=np.unique(y_test))\n",
    "plt.xlabel('Predicted Label')\n",
    "plt.ylabel('True Label')\n",
    "plt.title('Confusion Matrix')\n",
    "plt.show()"
   ]
  },
  {
   "cell_type": "markdown",
   "metadata": {},
   "source": [
    "# Mobile Net V2"
   ]
  },
  {
   "cell_type": "code",
   "execution_count": 21,
   "metadata": {},
   "outputs": [
    {
     "name": "stdout",
     "output_type": "stream",
     "text": [
      "Epoch 1/50\n",
      "21/21 [==============================] - 4s 85ms/step - loss: 2.7613 - acc: 0.2083 - val_loss: 2.0199 - val_acc: 0.4524\n",
      "Epoch 2/50\n",
      "21/21 [==============================] - 1s 58ms/step - loss: 1.3083 - acc: 0.7158 - val_loss: 1.2726 - val_acc: 0.6726\n",
      "Epoch 3/50\n",
      "21/21 [==============================] - 1s 60ms/step - loss: 0.7603 - acc: 0.8482 - val_loss: 0.8875 - val_acc: 0.8036\n",
      "Epoch 4/50\n",
      "21/21 [==============================] - 1s 57ms/step - loss: 0.4943 - acc: 0.9256 - val_loss: 0.7329 - val_acc: 0.8333\n",
      "Epoch 5/50\n",
      "21/21 [==============================] - 1s 56ms/step - loss: 0.3576 - acc: 0.9583 - val_loss: 0.6389 - val_acc: 0.8274\n",
      "Epoch 6/50\n",
      "21/21 [==============================] - 1s 57ms/step - loss: 0.2728 - acc: 0.9792 - val_loss: 0.5642 - val_acc: 0.8452\n",
      "Epoch 7/50\n",
      "21/21 [==============================] - 1s 56ms/step - loss: 0.2190 - acc: 0.9866 - val_loss: 0.5391 - val_acc: 0.8690\n",
      "Epoch 8/50\n",
      "21/21 [==============================] - 1s 56ms/step - loss: 0.1763 - acc: 0.9926 - val_loss: 0.4964 - val_acc: 0.8869\n",
      "Epoch 9/50\n",
      "21/21 [==============================] - 1s 56ms/step - loss: 0.1456 - acc: 0.9926 - val_loss: 0.4795 - val_acc: 0.8750\n",
      "Epoch 10/50\n",
      "21/21 [==============================] - 1s 56ms/step - loss: 0.1220 - acc: 0.9955 - val_loss: 0.4432 - val_acc: 0.8869\n",
      "Epoch 11/50\n",
      "21/21 [==============================] - 1s 56ms/step - loss: 0.1048 - acc: 0.9985 - val_loss: 0.4349 - val_acc: 0.9048\n",
      "Epoch 12/50\n",
      "21/21 [==============================] - 1s 56ms/step - loss: 0.0896 - acc: 1.0000 - val_loss: 0.4132 - val_acc: 0.9107\n",
      "Epoch 13/50\n",
      "21/21 [==============================] - 1s 56ms/step - loss: 0.0812 - acc: 1.0000 - val_loss: 0.4110 - val_acc: 0.9048\n",
      "Epoch 14/50\n",
      "21/21 [==============================] - 1s 56ms/step - loss: 0.0703 - acc: 1.0000 - val_loss: 0.3904 - val_acc: 0.9107\n",
      "Epoch 15/50\n",
      "21/21 [==============================] - 1s 56ms/step - loss: 0.0632 - acc: 1.0000 - val_loss: 0.3897 - val_acc: 0.9048\n",
      "Epoch 16/50\n",
      "21/21 [==============================] - 1s 56ms/step - loss: 0.0569 - acc: 1.0000 - val_loss: 0.3815 - val_acc: 0.9048\n",
      "Epoch 17/50\n",
      "21/21 [==============================] - 1s 56ms/step - loss: 0.0510 - acc: 1.0000 - val_loss: 0.3746 - val_acc: 0.9226\n",
      "Epoch 18/50\n",
      "21/21 [==============================] - 1s 56ms/step - loss: 0.0467 - acc: 1.0000 - val_loss: 0.3639 - val_acc: 0.9048\n",
      "Epoch 19/50\n",
      "21/21 [==============================] - 1s 56ms/step - loss: 0.0428 - acc: 1.0000 - val_loss: 0.3559 - val_acc: 0.9167\n",
      "Epoch 20/50\n",
      "21/21 [==============================] - 1s 57ms/step - loss: 0.0395 - acc: 1.0000 - val_loss: 0.3503 - val_acc: 0.9226\n",
      "Epoch 21/50\n",
      "21/21 [==============================] - 1s 56ms/step - loss: 0.0368 - acc: 1.0000 - val_loss: 0.3503 - val_acc: 0.9167\n",
      "Epoch 22/50\n",
      "21/21 [==============================] - 1s 56ms/step - loss: 0.0342 - acc: 1.0000 - val_loss: 0.3440 - val_acc: 0.9226\n",
      "Epoch 23/50\n",
      "21/21 [==============================] - 1s 56ms/step - loss: 0.0317 - acc: 1.0000 - val_loss: 0.3379 - val_acc: 0.9167\n",
      "Epoch 24/50\n",
      "21/21 [==============================] - 1s 56ms/step - loss: 0.0294 - acc: 1.0000 - val_loss: 0.3369 - val_acc: 0.9226\n",
      "Epoch 25/50\n",
      "21/21 [==============================] - 1s 56ms/step - loss: 0.0275 - acc: 1.0000 - val_loss: 0.3347 - val_acc: 0.9226\n",
      "Epoch 26/50\n",
      "21/21 [==============================] - 1s 56ms/step - loss: 0.0260 - acc: 1.0000 - val_loss: 0.3289 - val_acc: 0.9226\n",
      "Epoch 27/50\n",
      "21/21 [==============================] - 1s 57ms/step - loss: 0.0245 - acc: 1.0000 - val_loss: 0.3249 - val_acc: 0.9167\n",
      "Epoch 28/50\n",
      "21/21 [==============================] - 1s 56ms/step - loss: 0.0230 - acc: 1.0000 - val_loss: 0.3236 - val_acc: 0.9226\n",
      "Epoch 29/50\n",
      "21/21 [==============================] - 1s 57ms/step - loss: 0.0218 - acc: 1.0000 - val_loss: 0.3194 - val_acc: 0.9226\n",
      "Epoch 30/50\n",
      "21/21 [==============================] - 1s 57ms/step - loss: 0.0206 - acc: 1.0000 - val_loss: 0.3180 - val_acc: 0.9226\n",
      "Epoch 31/50\n",
      "21/21 [==============================] - 1s 58ms/step - loss: 0.0196 - acc: 1.0000 - val_loss: 0.3172 - val_acc: 0.9226\n",
      "Epoch 32/50\n",
      "21/21 [==============================] - 1s 57ms/step - loss: 0.0186 - acc: 1.0000 - val_loss: 0.3166 - val_acc: 0.9226\n",
      "Epoch 33/50\n",
      "21/21 [==============================] - 1s 58ms/step - loss: 0.0177 - acc: 1.0000 - val_loss: 0.3123 - val_acc: 0.9167\n",
      "Epoch 34/50\n",
      "21/21 [==============================] - 1s 61ms/step - loss: 0.0167 - acc: 1.0000 - val_loss: 0.3122 - val_acc: 0.9226\n",
      "Epoch 35/50\n",
      "21/21 [==============================] - 1s 57ms/step - loss: 0.0160 - acc: 1.0000 - val_loss: 0.3073 - val_acc: 0.9226\n",
      "Epoch 36/50\n",
      "21/21 [==============================] - 1s 56ms/step - loss: 0.0154 - acc: 1.0000 - val_loss: 0.3068 - val_acc: 0.9226\n",
      "Epoch 37/50\n",
      "21/21 [==============================] - 1s 56ms/step - loss: 0.0147 - acc: 1.0000 - val_loss: 0.3056 - val_acc: 0.9167\n",
      "Epoch 38/50\n",
      "21/21 [==============================] - 1s 56ms/step - loss: 0.0141 - acc: 1.0000 - val_loss: 0.3026 - val_acc: 0.9167\n",
      "Epoch 39/50\n",
      "21/21 [==============================] - 1s 57ms/step - loss: 0.0134 - acc: 1.0000 - val_loss: 0.3040 - val_acc: 0.9167\n",
      "Epoch 40/50\n",
      "21/21 [==============================] - 1s 56ms/step - loss: 0.0129 - acc: 1.0000 - val_loss: 0.3012 - val_acc: 0.9226\n",
      "Epoch 41/50\n",
      "21/21 [==============================] - 1s 54ms/step - loss: 0.0124 - acc: 1.0000 - val_loss: 0.3005 - val_acc: 0.9226\n",
      "Epoch 42/50\n",
      "21/21 [==============================] - 1s 53ms/step - loss: 0.0120 - acc: 1.0000 - val_loss: 0.2977 - val_acc: 0.9226\n",
      "Epoch 43/50\n",
      "21/21 [==============================] - 1s 53ms/step - loss: 0.0115 - acc: 1.0000 - val_loss: 0.2976 - val_acc: 0.9167\n",
      "Epoch 44/50\n",
      "21/21 [==============================] - 1s 56ms/step - loss: 0.0111 - acc: 1.0000 - val_loss: 0.2949 - val_acc: 0.9226\n",
      "Epoch 45/50\n",
      "21/21 [==============================] - 1s 55ms/step - loss: 0.0107 - acc: 1.0000 - val_loss: 0.2956 - val_acc: 0.9226\n",
      "Epoch 46/50\n",
      "21/21 [==============================] - 1s 54ms/step - loss: 0.0102 - acc: 1.0000 - val_loss: 0.2924 - val_acc: 0.9167\n",
      "Epoch 47/50\n",
      "21/21 [==============================] - 1s 53ms/step - loss: 0.0099 - acc: 1.0000 - val_loss: 0.2928 - val_acc: 0.9226\n",
      "Epoch 48/50\n",
      "21/21 [==============================] - 1s 54ms/step - loss: 0.0095 - acc: 1.0000 - val_loss: 0.2926 - val_acc: 0.9226\n",
      "Epoch 49/50\n",
      "21/21 [==============================] - 1s 54ms/step - loss: 0.0092 - acc: 1.0000 - val_loss: 0.2925 - val_acc: 0.9167\n",
      "Epoch 50/50\n",
      "21/21 [==============================] - 1s 53ms/step - loss: 0.0090 - acc: 1.0000 - val_loss: 0.2894 - val_acc: 0.9167\n"
     ]
    }
   ],
   "source": [
    "#MOBILE NET\n",
    "from tensorflow.keras.callbacks import LearningRateScheduler\n",
    "\n",
    "import tensorflow_hub as hub\n",
    "classifier = tf.keras.Sequential([hub.KerasLayer(\"https://tfhub.dev/google/tf2-preview/mobilenet_v2/classification/4\")])\n",
    "feature_extractor_model = \"https://tfhub.dev/google/tf2-preview/mobilenet_v2/feature_vector/4\"\n",
    "\n",
    "pretrained_model_without_top_layer = hub.KerasLayer(\n",
    "    feature_extractor_model, input_shape=(224, 224, 3), trainable=False)\n",
    "\n",
    "num_of_classes = 21\n",
    "\n",
    "model = tf.keras.Sequential([\n",
    "  pretrained_model_without_top_layer,\n",
    "  tf.keras.layers.Dense(num_of_classes)\n",
    "])\n",
    "\n",
    "# def lr_schedule(epoch, lr):\n",
    "#     if epoch < 30:\n",
    "#         return lr\n",
    "#     else:\n",
    "#         return lr * tf.math.exp(-0.1)\n",
    "\n",
    "# lr_scheduler = LearningRateScheduler(lr_schedule)\n",
    "# optimizer = tf.keras.optimizers.Adam(learning_rate=1e-4)\n",
    "\n",
    "model.compile(\n",
    "  optimizer= \"adam\",\n",
    "  loss=tf.keras.losses.SparseCategoricalCrossentropy(from_logits=True),\n",
    "  metrics=['acc'])\n",
    "\n",
    "history = model.fit(X_train_scaled, y_train, validation_data= (X_test_scaled, y_test) , epochs=50)\n"
   ]
  },
  {
   "cell_type": "code",
   "execution_count": 22,
   "metadata": {},
   "outputs": [
    {
     "name": "stdout",
     "output_type": "stream",
     "text": [
      "6/6 [==============================] - 0s 38ms/step - loss: 0.2894 - acc: 0.9167\n"
     ]
    },
    {
     "data": {
      "text/plain": [
       "[0.2893540859222412, 0.9166666865348816]"
      ]
     },
     "execution_count": 22,
     "metadata": {},
     "output_type": "execute_result"
    }
   ],
   "source": [
    "model.evaluate(X_test_scaled,y_test)"
   ]
  },
  {
   "cell_type": "code",
   "execution_count": 23,
   "metadata": {},
   "outputs": [
    {
     "data": {
      "image/png": "[encoded data removed]",
      "text/plain": [
       "<Figure size 800x500 with 1 Axes>"
      ]
     },
     "metadata": {},
     "output_type": "display_data"
    }
   ],
   "source": [
    "import pandas as pd\n",
    "import matplotlib.pyplot as plt\n",
    "pd.DataFrame(history.history).plot(figsize=(8,5))\n",
    "plt.title(\"Learning Curve\", fontsize=15)\n",
    "plt.grid()\n",
    "plt.show()"
   ]
  },
  {
   "cell_type": "code",
   "execution_count": null,
   "metadata": {},
   "outputs": [],
   "source": [
    "# model.save(\"mobilenet.h5\")"
   ]
  },
  {
   "cell_type": "markdown",
   "metadata": {},
   "source": [
    "Save and Load Previous model"
   ]
  },
  {
   "cell_type": "code",
   "execution_count": null,
   "metadata": {},
   "outputs": [
    {
     "name": "stdout",
     "output_type": "stream",
     "text": [
      "Model: \"sequential_1\"\n",
      "_________________________________________________________________\n",
      " Layer (type)                Output Shape              Param #   \n",
      "=================================================================\n",
      " keras_layer_1 (KerasLayer)  (None, 1280)              2257984   \n",
      "                                                                 \n",
      " dense (Dense)               (None, 21)                26901     \n",
      "                                                                 \n",
      "=================================================================\n",
      "Total params: 2,284,885\n",
      "Trainable params: 26,901\n",
      "Non-trainable params: 2,257,984\n",
      "_________________________________________________________________\n",
      "11/11 [==============================] - 6s 43ms/step - loss: 0.1492 - acc: 0.9732\n"
     ]
    },
    {
     "data": {
      "text/plain": [
       "[0.14917129278182983, 0.9732142686843872]"
      ]
     },
     "execution_count": 17,
     "metadata": {},
     "output_type": "execute_result"
    }
   ],
   "source": [
    "import tensorflow_hub as hub\n",
    "my_reloaded_model = tf.keras.models.load_model(\n",
    "       (\"./mobilenet.h5\"),\n",
    "       custom_objects={'KerasLayer':hub.KerasLayer}\n",
    ")\n",
    "my_reloaded_model.summary()\n",
    "my_reloaded_model.evaluate(X_test_scaled,y_test)"
   ]
  },
  {
   "cell_type": "markdown",
   "metadata": {},
   "source": [
    "# Resnet"
   ]
  },
  {
   "cell_type": "code",
   "execution_count": 15,
   "metadata": {},
   "outputs": [
    {
     "name": "stdout",
     "output_type": "stream",
     "text": [
      "Epoch 1/30\n"
     ]
    },
    {
     "name": "stderr",
     "output_type": "stream",
     "text": [
      "C:\\Users\\ASUS\\AppData\\Roaming\\Python\\Python310\\site-packages\\keras\\optimizers\\optimizer_v2\\adam.py:114: UserWarning: The `lr` argument is deprecated, use `learning_rate` instead.\n",
      "  super().__init__(name, **kwargs)\n"
     ]
    },
    {
     "name": "stdout",
     "output_type": "stream",
     "text": [
      "68/68 [==============================] - 7s 72ms/step - loss: 10.0762 - accuracy: 0.4345 - val_loss: 4.9296 - val_accuracy: 0.5536\n",
      "Epoch 2/30\n",
      "68/68 [==============================] - 4s 58ms/step - loss: 1.2936 - accuracy: 0.8557 - val_loss: 3.3974 - val_accuracy: 0.6786\n",
      "Epoch 3/30\n",
      "68/68 [==============================] - 4s 57ms/step - loss: 0.5195 - accuracy: 0.9137 - val_loss: 4.3082 - val_accuracy: 0.6786\n",
      "Epoch 4/30\n",
      "68/68 [==============================] - 4s 57ms/step - loss: 0.3499 - accuracy: 0.9464 - val_loss: 4.1662 - val_accuracy: 0.6548\n",
      "Epoch 5/30\n",
      "68/68 [==============================] - 4s 57ms/step - loss: 0.2591 - accuracy: 0.9658 - val_loss: 4.6229 - val_accuracy: 0.6369\n",
      "Epoch 6/30\n",
      "68/68 [==============================] - 4s 57ms/step - loss: 0.2770 - accuracy: 0.9613 - val_loss: 5.6852 - val_accuracy: 0.5774\n",
      "Epoch 7/30\n",
      "68/68 [==============================] - 4s 57ms/step - loss: 0.1342 - accuracy: 0.9717 - val_loss: 4.9636 - val_accuracy: 0.6607\n",
      "Epoch 8/30\n",
      "68/68 [==============================] - 4s 57ms/step - loss: 0.3397 - accuracy: 0.9583 - val_loss: 6.6674 - val_accuracy: 0.5833\n",
      "Epoch 9/30\n",
      "68/68 [==============================] - 4s 57ms/step - loss: 0.5426 - accuracy: 0.9524 - val_loss: 7.2377 - val_accuracy: 0.5893\n",
      "Epoch 10/30\n",
      "68/68 [==============================] - 4s 57ms/step - loss: 0.4285 - accuracy: 0.9732 - val_loss: 6.0706 - val_accuracy: 0.6369\n",
      "Epoch 11/30\n",
      "68/68 [==============================] - 4s 57ms/step - loss: 0.4179 - accuracy: 0.9583 - val_loss: 7.9086 - val_accuracy: 0.5774\n",
      "Epoch 12/30\n",
      "68/68 [==============================] - 4s 57ms/step - loss: 0.1718 - accuracy: 0.9762 - val_loss: 6.6060 - val_accuracy: 0.6667\n",
      "Epoch 13/30\n",
      "68/68 [==============================] - 4s 58ms/step - loss: 0.4543 - accuracy: 0.9613 - val_loss: 7.8081 - val_accuracy: 0.6012\n",
      "Epoch 14/30\n",
      "68/68 [==============================] - 4s 58ms/step - loss: 0.4064 - accuracy: 0.9673 - val_loss: 4.6415 - val_accuracy: 0.7143\n",
      "Epoch 15/30\n",
      "68/68 [==============================] - 4s 58ms/step - loss: 0.4424 - accuracy: 0.9628 - val_loss: 5.5619 - val_accuracy: 0.7321\n",
      "Epoch 16/30\n",
      "68/68 [==============================] - 4s 58ms/step - loss: 0.1523 - accuracy: 0.9807 - val_loss: 5.6628 - val_accuracy: 0.7857\n",
      "Epoch 17/30\n",
      "68/68 [==============================] - 4s 58ms/step - loss: 0.3403 - accuracy: 0.9673 - val_loss: 6.8661 - val_accuracy: 0.7083\n",
      "Epoch 18/30\n",
      "68/68 [==============================] - 4s 58ms/step - loss: 0.3635 - accuracy: 0.9732 - val_loss: 5.7264 - val_accuracy: 0.7440\n",
      "Epoch 19/30\n",
      "68/68 [==============================] - 4s 59ms/step - loss: 0.1146 - accuracy: 0.9896 - val_loss: 6.0452 - val_accuracy: 0.7500\n",
      "Epoch 20/30\n",
      "68/68 [==============================] - 4s 58ms/step - loss: 0.1147 - accuracy: 0.9866 - val_loss: 5.6135 - val_accuracy: 0.7262\n",
      "Epoch 21/30\n",
      "68/68 [==============================] - 4s 58ms/step - loss: 0.8480 - accuracy: 0.9673 - val_loss: 14.3025 - val_accuracy: 0.5595\n",
      "Epoch 22/30\n",
      "68/68 [==============================] - 4s 58ms/step - loss: 0.7639 - accuracy: 0.9554 - val_loss: 11.4320 - val_accuracy: 0.6369\n",
      "Epoch 23/30\n",
      "68/68 [==============================] - 4s 58ms/step - loss: 0.4995 - accuracy: 0.9613 - val_loss: 8.6663 - val_accuracy: 0.6607\n",
      "Epoch 24/30\n",
      "68/68 [==============================] - 4s 58ms/step - loss: 0.4290 - accuracy: 0.9792 - val_loss: 11.1758 - val_accuracy: 0.6369\n",
      "Epoch 25/30\n",
      "68/68 [==============================] - 4s 58ms/step - loss: 0.7457 - accuracy: 0.9613 - val_loss: 10.2173 - val_accuracy: 0.6548\n",
      "Epoch 26/30\n",
      "68/68 [==============================] - 4s 58ms/step - loss: 0.6917 - accuracy: 0.9643 - val_loss: 11.8279 - val_accuracy: 0.6964\n",
      "Epoch 27/30\n",
      "68/68 [==============================] - 4s 59ms/step - loss: 0.1589 - accuracy: 0.9836 - val_loss: 11.4979 - val_accuracy: 0.6786\n",
      "Epoch 28/30\n",
      "68/68 [==============================] - 4s 58ms/step - loss: 0.1541 - accuracy: 0.9896 - val_loss: 9.4495 - val_accuracy: 0.6548\n",
      "Epoch 29/30\n",
      "68/68 [==============================] - 4s 59ms/step - loss: 0.0933 - accuracy: 0.9985 - val_loss: 7.3781 - val_accuracy: 0.7143\n",
      "Epoch 30/30\n",
      "68/68 [==============================] - 4s 59ms/step - loss: 5.0417e-05 - accuracy: 1.0000 - val_loss: 7.2107 - val_accuracy: 0.7083\n"
     ]
    }
   ],
   "source": [
    "import tensorflow as tf\n",
    "from tensorflow.keras.applications import ResNet50\n",
    "from tensorflow.keras.layers import Dense, Flatten\n",
    "from tensorflow.keras.models import Model\n",
    "from tensorflow.keras.optimizers import Adam\n",
    "from tensorflow.keras.utils import to_categorical\n",
    "\n",
    "# Load the pretrained ResNet50 model (excluding the top classification layer)\n",
    "base_model = ResNet50(weights='imagenet', include_top=False, input_shape=(224, 224, 3))\n",
    "\n",
    "# Freeze the layers of the base model\n",
    "for layer in base_model.layers:\n",
    "    layer.trainable = False\n",
    "\n",
    "x = Flatten()(base_model.output)\n",
    "x = Dense(512, activation='relu')(x)\n",
    "x = Dense(224, activation='relu')(x)\n",
    "output = Dense(21, activation='softmax')(x)\n",
    "\n",
    "model = Model(inputs=base_model.input, outputs=output)\n",
    "model.compile(optimizer=Adam(lr=0.001), loss='sparse_categorical_crossentropy', metrics=['accuracy'])\n",
    "\n",
    "# Assuming you have X_train and y_train data\n",
    "history = model.fit(\n",
    "    X_train, y_train,\n",
    "    epochs=30,\n",
    "    batch_size=10,\n",
    "    validation_data=(X_test, y_test)\n",
    ")\n"
   ]
  }
 ],
 "metadata": {
  "kernelspec": {
   "display_name": "Python 3",
   "language": "python",
   "name": "python3"
  },
  "language_info": {
   "codemirror_mode": {
    "name": "ipython",
    "version": 3
   },
   "file_extension": ".py",
   "mimetype": "text/x-python",
   "name": "python",
   "nbconvert_exporter": "python",
   "pygments_lexer": "ipython3",
   "version": "3.10.11"
  },
  "orig_nbformat": 4
 },
 "nbformat": 4,
 "nbformat_minor": 2
}
